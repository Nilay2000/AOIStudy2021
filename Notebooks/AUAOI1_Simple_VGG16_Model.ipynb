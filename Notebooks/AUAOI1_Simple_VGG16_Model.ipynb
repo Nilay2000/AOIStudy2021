{
  "nbformat": 4,
  "nbformat_minor": 0,
  "metadata": {
    "accelerator": "GPU",
    "colab": {
      "name": "AUAOI1_Simple_VGG16_Model.ipynb",
      "provenance": [],
      "collapsed_sections": []
    },
    "kernelspec": {
      "display_name": "Python 3",
      "name": "python3"
    }
  },
  "cells": [
    {
      "cell_type": "markdown",
      "metadata": {
        "id": "7e5eQw8diP2t"
      },
      "source": [
        "<table width=\"100%\" border=\"3\">\r\n",
        "  <tbody>\r\n",
        "    <tr>\r\n",
        "      <td ><img src=\"https://aidea-web.tw/images/web/logo_white.png\" alt=\"Aidea\" width=\"400\"/></td>\r\n",
        "      <td align='left'><h1>AUAI Exercise 1: Introduction to AIdea AOI </h1></td>\r\n",
        "    </tr>\r\n",
        "  </tbody>\r\n",
        "</table>"
      ]
    },
    {
      "cell_type": "markdown",
      "metadata": {
        "id": "bM_8oFWlitDw"
      },
      "source": [
        "# (A) AIdea dataset"
      ]
    },
    {
      "cell_type": "markdown",
      "metadata": {
        "id": "PLJ474uIixh2"
      },
      "source": [
        "## Step 1: Load the AIdea AOI dataset from google drive"
      ]
    },
    {
      "cell_type": "code",
      "metadata": {
        "colab": {
          "background_save": true
        },
        "id": "gq6SEJjKh57d"
      },
      "source": [
        "from google_drive_downloader import GoogleDriveDownloader\r\n",
        "GoogleDriveDownloader.download_file_from_google_drive(file_id='1tovCO2gsjesjJ8OsfHgahyt-xxxxxxxxx',dest_path='./content', unzip=True)"
      ],
      "execution_count": null,
      "outputs": []
    },
    {
      "cell_type": "markdown",
      "metadata": {
        "id": "GN8_whHgp-_m"
      },
      "source": [
        "## Step 2: check the train/test datasets"
      ]
    },
    {
      "cell_type": "code",
      "metadata": {
        "id": "Ilq3w4KzqEv0"
      },
      "source": [
        "#train dataset\r\n",
        "import pandas as pd\r\n",
        "df_train = pd.read_csv(\"train.csv\")\r\n",
        "print(df_train.shape)"
      ],
      "execution_count": null,
      "outputs": []
    },
    {
      "cell_type": "code",
      "metadata": {
        "id": "O2Z_4htuqjXc"
      },
      "source": [
        "type(df_train)"
      ],
      "execution_count": null,
      "outputs": []
    },
    {
      "cell_type": "code",
      "metadata": {
        "id": "rzg0nnWYqrPl"
      },
      "source": [
        "df_train.head()"
      ],
      "execution_count": null,
      "outputs": []
    },
    {
      "cell_type": "code",
      "metadata": {
        "id": "NtC4JJitqE5D"
      },
      "source": [
        "#test dataset\r\n",
        "df_test = pd.read_csv('test.csv')\r\n",
        "print(df_test.shape)"
      ],
      "execution_count": null,
      "outputs": []
    },
    {
      "cell_type": "markdown",
      "metadata": {
        "id": "k9kidyW8q-h6"
      },
      "source": [
        "## Step 3: Build the lists of training images and labels from the dataframe"
      ]
    },
    {
      "cell_type": "code",
      "metadata": {
        "id": "KcBrQpTlqFIA"
      },
      "source": [
        "#limit the amount of training images for the class process\r\n",
        "#train_num = 480\r\n",
        "train_num = df_train.shape[0]\r\n",
        "if train_num >= df_train.shape[0]:\r\n",
        "  train_num = df_train.shape[0]\r\n",
        "train_files = df_train.iloc[:train_num,0].values\r\n",
        "train_labels = df_train.iloc[:train_num,1].values\r\n",
        "print(train_labels[:10])"
      ],
      "execution_count": null,
      "outputs": []
    },
    {
      "cell_type": "markdown",
      "metadata": {
        "id": "sqIlE6rZrFMR"
      },
      "source": [
        "## Step 4: read images of the training set"
      ]
    },
    {
      "cell_type": "code",
      "metadata": {
        "id": "uEOASVlOrETO"
      },
      "source": [
        "train_path =\"train_images/\"\r\n",
        "train_images = []\r\n",
        "from tensorflow.keras.preprocessing import image\r\n",
        "for file in train_files:\r\n",
        "    img = image.load_img(train_path+file, color_mode=\"rgb\", target_size = (224, 224))\r\n",
        "    train_images.append(img)\r\n",
        "    if len(train_images)%100 == 0:\r\n",
        "      print('.', end='')\r\n",
        "print(len(train_images))"
      ],
      "execution_count": null,
      "outputs": []
    },
    {
      "cell_type": "markdown",
      "metadata": {
        "id": "fQnDDEtqrLhJ"
      },
      "source": [
        "## Step 5: show AOI images of the classes: \r\n",
        "0 (normal), 1 (void), 2 (horizontal  defect) 3 (vertical defect), 4 (edge defect), 5 (particle)"
      ]
    },
    {
      "cell_type": "code",
      "metadata": {
        "id": "nCQCf5CLrMV2"
      },
      "source": [
        "import matplotlib.pyplot as plt\r\n",
        "%matplotlib inline"
      ],
      "execution_count": null,
      "outputs": []
    },
    {
      "cell_type": "code",
      "metadata": {
        "id": "x7ednVO9rO0e"
      },
      "source": [
        "import random\r\n",
        "curclass = 0\r\n",
        "fig,ax=plt.subplots(2, 3)\r\n",
        "fig.set_size_inches(10,10)\r\n",
        "for i in range(2):\r\n",
        "    for j in range (3):\r\n",
        "        sel=random.randint(0,train_num)\r\n",
        "        while train_labels[sel]!=curclass:\r\n",
        "          sel +=1\r\n",
        "          if sel == train_num -1:\r\n",
        "            sel = 0\r\n",
        "        curclass += 1\r\n",
        "        curclass %= 6\r\n",
        "        #sel=random.randint(0,train_num)\r\n",
        "        ax[i,j].imshow(train_images[sel], cmap='gray')\r\n",
        "        ax[i,j].set_title('No. {} Label:{} '.format(sel, train_labels[sel]))       \r\n",
        "plt.tight_layout()"
      ],
      "execution_count": null,
      "outputs": []
    },
    {
      "cell_type": "code",
      "metadata": {
        "id": "GESfA-iArSR5"
      },
      "source": [
        "# Class 0-normal\r\n",
        "import random\r\n",
        "curclass = 0\r\n",
        "fig,ax=plt.subplots(2, 3)\r\n",
        "fig.set_size_inches(10,10)\r\n",
        "for i in range(2):\r\n",
        "    for j in range (3):\r\n",
        "        sel=random.randint(0,train_num)\r\n",
        "        while train_labels[sel]!=curclass:\r\n",
        "          sel +=1\r\n",
        "          if sel == train_num -1:\r\n",
        "            sel = 0\r\n",
        "        #sel=random.randint(0,train_num)\r\n",
        "        ax[i,j].imshow(train_images[sel], cmap='gray')\r\n",
        "        ax[i,j].set_title('No. {} Label:{} '.format(sel, train_labels[sel]))       \r\n",
        "plt.tight_layout()"
      ],
      "execution_count": null,
      "outputs": []
    },
    {
      "cell_type": "code",
      "metadata": {
        "id": "ErzrBxYKrTDQ"
      },
      "source": [
        "# Class 1-void\r\n",
        "import random\r\n",
        "curclass = 1\r\n",
        "fig,ax=plt.subplots(2, 3)\r\n",
        "fig.set_size_inches(10,10)\r\n",
        "for i in range(2):\r\n",
        "    for j in range (3):\r\n",
        "        sel=random.randint(0,train_num)\r\n",
        "        while train_labels[sel]!=curclass:\r\n",
        "          sel +=1\r\n",
        "          if sel == train_num -1:\r\n",
        "            sel = 0\r\n",
        "        #sel=random.randint(0,train_num)\r\n",
        "        ax[i,j].imshow(train_images[sel], cmap='gray')\r\n",
        "        ax[i,j].set_title('No. {} Label:{} '.format(sel, train_labels[sel]))       \r\n",
        "plt.tight_layout()"
      ],
      "execution_count": null,
      "outputs": []
    },
    {
      "cell_type": "code",
      "metadata": {
        "id": "ppkl7wT0rUmM"
      },
      "source": [
        "# Class 2-horizontal defect\r\n",
        "import random\r\n",
        "curclass = 2\r\n",
        "fig,ax=plt.subplots(2, 3)\r\n",
        "fig.set_size_inches(10,10)\r\n",
        "for i in range(2):\r\n",
        "    for j in range (3):\r\n",
        "        sel=random.randint(0,train_num)\r\n",
        "        while train_labels[sel]!=curclass:\r\n",
        "          sel +=1\r\n",
        "          if sel == train_num -1:\r\n",
        "            sel = 0\r\n",
        "        #sel=random.randint(0,train_num)\r\n",
        "        ax[i,j].imshow(train_images[sel], cmap='gray')\r\n",
        "        ax[i,j].set_title('No. {} Label:{} '.format(sel, train_labels[sel]))       \r\n",
        "plt.tight_layout()"
      ],
      "execution_count": null,
      "outputs": []
    },
    {
      "cell_type": "code",
      "metadata": {
        "id": "olT1R8x4rW5S"
      },
      "source": [
        "# Class 3-vertical defect\r\n",
        "import random\r\n",
        "curclass = 3\r\n",
        "fig,ax=plt.subplots(2, 3)\r\n",
        "fig.set_size_inches(10,10)\r\n",
        "for i in range(2):\r\n",
        "    for j in range (3):\r\n",
        "        sel=random.randint(0,train_num)\r\n",
        "        while train_labels[sel]!=curclass:\r\n",
        "          sel +=1\r\n",
        "          if sel == train_num -1:\r\n",
        "            sel = 0\r\n",
        "        #sel=random.randint(0,train_num)\r\n",
        "        ax[i,j].imshow(train_images[sel], cmap='gray')\r\n",
        "        ax[i,j].set_title('No. {} Label:{} '.format(sel, train_labels[sel]))       \r\n",
        "plt.tight_layout()"
      ],
      "execution_count": null,
      "outputs": []
    },
    {
      "cell_type": "code",
      "metadata": {
        "id": "9uSRH1OprYea"
      },
      "source": [
        "# Class 4-edge defect\r\n",
        "import random\r\n",
        "curclass = 4\r\n",
        "fig,ax=plt.subplots(2, 3)\r\n",
        "fig.set_size_inches(10,10)\r\n",
        "for i in range(2):\r\n",
        "    for j in range (3):\r\n",
        "        sel=random.randint(0,train_num)\r\n",
        "        while train_labels[sel]!=curclass:\r\n",
        "          sel +=1\r\n",
        "          if sel == train_num -1:\r\n",
        "            sel = 0\r\n",
        "        #sel=random.randint(0,train_num)\r\n",
        "        ax[i,j].imshow(train_images[sel], cmap='gray')\r\n",
        "        ax[i,j].set_title('No. {} Label:{} '.format(sel, train_labels[sel]))       \r\n",
        "plt.tight_layout()"
      ],
      "execution_count": null,
      "outputs": []
    },
    {
      "cell_type": "code",
      "metadata": {
        "id": "K-28YsO7raHn"
      },
      "source": [
        "# Class 5-particle\r\n",
        "import random\r\n",
        "curclass = 5\r\n",
        "fig,ax=plt.subplots(2, 3)\r\n",
        "fig.set_size_inches(10,10)\r\n",
        "for i in range(2):\r\n",
        "    for j in range (3):\r\n",
        "        sel=random.randint(0,train_num)\r\n",
        "        while train_labels[sel]!=curclass:\r\n",
        "          sel +=1\r\n",
        "          if sel == train_num -1:\r\n",
        "            sel = 0\r\n",
        "        #sel=random.randint(0,train_num)\r\n",
        "        ax[i,j].imshow(train_images[sel], cmap='gray')\r\n",
        "        ax[i,j].set_title('No. {} Label:{} '.format(sel, train_labels[sel]))       \r\n",
        "plt.tight_layout()"
      ],
      "execution_count": null,
      "outputs": []
    },
    {
      "cell_type": "markdown",
      "metadata": {
        "id": "owIZdbTrrbJx"
      },
      "source": [
        "## Step 6: Show statistics of training images in the 6 classes"
      ]
    },
    {
      "cell_type": "code",
      "metadata": {
        "id": "Gniw-TGTrdT_"
      },
      "source": [
        "import numpy as np\r\n",
        "labels, counts = np.unique(train_labels, return_counts=True)\r\n",
        "print(labels, counts)"
      ],
      "execution_count": null,
      "outputs": []
    },
    {
      "cell_type": "code",
      "metadata": {
        "id": "pgrKX1ZPrfyB"
      },
      "source": [
        "fig = plt.figure(figsize=(8, 5))\r\n",
        "plt.bar(labels, counts, width=0.7, align='center')\r\n",
        "plt.title(\"Label Distribution\")\r\n",
        "plt.xlabel('Label')\r\n",
        "plt.ylabel('Count')\r\n",
        "plt.xticks(labels)\r\n",
        "plt.ylim(0, 680)\r\n",
        "\r\n",
        "for a, b in zip(labels, counts):\r\n",
        "    plt.text(a, b, '%d' % b, ha='center', va='bottom', fontsize=10)\r\n",
        "plt.show()"
      ],
      "execution_count": null,
      "outputs": []
    },
    {
      "cell_type": "markdown",
      "metadata": {
        "id": "-Ul3nBZKrhPS"
      },
      "source": [
        "# AOI02-Training a Deep Learning Model by Transfer Learning"
      ]
    },
    {
      "cell_type": "markdown",
      "metadata": {
        "id": "qk8NeqhvsxyQ"
      },
      "source": [
        "## Step 7: convert images into input vectors"
      ]
    },
    {
      "cell_type": "code",
      "metadata": {
        "id": "BndyzEzetjsQ"
      },
      "source": [
        "import numpy as np\r\n",
        "from tensorflow.keras.preprocessing import image\r\n",
        "from tensorflow.keras.applications.vgg16 import preprocess_input\r\n",
        "\r\n",
        "#Assign a list for storing image data\r\n",
        "img_list=[]\r\n",
        "for i in range(train_num):\r\n",
        "    x=image.img_to_array(train_images[i])\r\n",
        "    x = preprocess_input(x)\r\n",
        "    img_list.append(x)\r\n",
        "X_train = np.array(img_list)"
      ],
      "execution_count": null,
      "outputs": []
    },
    {
      "cell_type": "code",
      "metadata": {
        "id": "CortBPnfu14N"
      },
      "source": [
        "print (X_train.shape)"
      ],
      "execution_count": null,
      "outputs": []
    },
    {
      "cell_type": "markdown",
      "metadata": {
        "id": "IZKbEpbOvCaY"
      },
      "source": [
        "## Step 8: Configure a customized VGG-16 Deep Learning Model"
      ]
    },
    {
      "cell_type": "code",
      "metadata": {
        "id": "iGw3UmLMvD88"
      },
      "source": [
        "from tensorflow.keras.applications.vgg16 import VGG16\r\n",
        "from tensorflow.keras.layers import Dense, Activation, Flatten\r\n",
        "from tensorflow.keras.layers import Input\r\n",
        "from tensorflow.keras.models import Model"
      ],
      "execution_count": null,
      "outputs": []
    },
    {
      "cell_type": "code",
      "metadata": {
        "id": "jWRMhRHqvKUd"
      },
      "source": [
        "num_classes = 6\r\n",
        "#input shape\r\n",
        "input_layer = Input(shape=(224, 224, 3))\r\n",
        "\r\n",
        "#Use the VGG16 model \r\n",
        "model = VGG16(input_tensor=input_layer, include_top=True,weights='imagenet')\r\n",
        "\r\n",
        "#Summary of the customize VGG16 model\r\n",
        "model.summary()"
      ],
      "execution_count": null,
      "outputs": []
    },
    {
      "cell_type": "code",
      "metadata": {
        "id": "X8LwxSqxvZFa"
      },
      "source": [
        "last_layer = model.get_layer('fc2').output\r\n",
        "out = Dense(num_classes, activation='softmax', name='output')(last_layer)\r\n",
        "custom_vgg_model = Model(input_layer, out)\r\n",
        "custom_vgg_model.summary()\r\n",
        "\r\n",
        "for layer in custom_vgg_model.layers[:-1]:\r\n",
        "    layer.trainable = False"
      ],
      "execution_count": null,
      "outputs": []
    },
    {
      "cell_type": "markdown",
      "metadata": {
        "id": "VXfSulNmDXvs"
      },
      "source": [
        "## Step 9: Compile and train the model"
      ]
    },
    {
      "cell_type": "code",
      "metadata": {
        "id": "WNYygrmjwvV1"
      },
      "source": [
        "custom_vgg_model.compile(loss='categorical_crossentropy',optimizer='rmsprop',metrics=['accuracy'])"
      ],
      "execution_count": null,
      "outputs": []
    },
    {
      "cell_type": "code",
      "metadata": {
        "id": "XnJXlluSwekI"
      },
      "source": [
        "from tensorflow.python.keras import utils\r\n",
        "# one-hot encoding\r\n",
        "y_train = utils.np_utils.to_categorical(train_labels, num_classes)"
      ],
      "execution_count": null,
      "outputs": []
    },
    {
      "cell_type": "code",
      "metadata": {
        "id": "YxwaWYTVwpMb"
      },
      "source": [
        "hist = custom_vgg_model.fit(X_train, y_train, batch_size=32, epochs=5, verbose=1)"
      ],
      "execution_count": null,
      "outputs": []
    },
    {
      "cell_type": "markdown",
      "metadata": {
        "id": "AhxdnY5j0NLn"
      },
      "source": [
        "## Step 10: Analyze training results\r\n"
      ]
    },
    {
      "cell_type": "code",
      "metadata": {
        "id": "uvVaagtPx1Qp"
      },
      "source": [
        "y_predicts = custom_vgg_model.predict(X_train)"
      ],
      "execution_count": null,
      "outputs": []
    },
    {
      "cell_type": "code",
      "metadata": {
        "id": "pP7IPh0ryGV4"
      },
      "source": [
        "print(y_predicts[0])"
      ],
      "execution_count": null,
      "outputs": []
    },
    {
      "cell_type": "code",
      "metadata": {
        "id": "fV5RxaIHyOl6"
      },
      "source": [
        "import numpy as np\r\n",
        "predicts = np.argmax(y_predicts,axis=1)\r\n",
        "print(predicts[0:10])"
      ],
      "execution_count": null,
      "outputs": []
    },
    {
      "cell_type": "code",
      "metadata": {
        "id": "nXbiHf1vzDbg"
      },
      "source": [
        "print(train_labels[0:10])"
      ],
      "execution_count": null,
      "outputs": []
    },
    {
      "cell_type": "code",
      "metadata": {
        "id": "brhpouMc0N_V"
      },
      "source": [
        "from sklearn.metrics import confusion_matrix\r\n",
        "confusion=confusion_matrix(train_labels, predicts)\r\n",
        "print(confusion)"
      ],
      "execution_count": null,
      "outputs": []
    },
    {
      "cell_type": "code",
      "metadata": {
        "id": "b1gvQhUN0WhS"
      },
      "source": [
        "overkill= []\r\n",
        "underkill = []\r\n",
        "for i in range(train_num):\r\n",
        "  if train_labels[i] == 0 and predicts[i] !=0:\r\n",
        "    overkill.append(i)\r\n",
        "  if train_labels[i] != 0 and predicts[i] ==0:\r\n",
        "    underkill.append(i)\r\n",
        "print('# of overkill= {}; # of underkill= {} '.format(len(overkill), len(underkill)))"
      ],
      "execution_count": null,
      "outputs": []
    },
    {
      "cell_type": "markdown",
      "metadata": {
        "id": "vH_ab3UQDimc"
      },
      "source": [
        "## Step 11: clean memory usage"
      ]
    },
    {
      "cell_type": "code",
      "metadata": {
        "id": "YQpPoe_52ikr"
      },
      "source": [
        "del X_train\r\n",
        "del img_list\r\n",
        "del train_images\r\n"
      ],
      "execution_count": null,
      "outputs": []
    },
    {
      "cell_type": "code",
      "metadata": {
        "id": "m96WeuVj2TUo"
      },
      "source": [
        "import gc\r\n",
        "gc.collect()"
      ],
      "execution_count": null,
      "outputs": []
    },
    {
      "cell_type": "markdown",
      "metadata": {
        "id": "Vv54V0lKDtCc"
      },
      "source": [
        "# AOI03-Inference by our Deep Learning Model"
      ]
    },
    {
      "cell_type": "markdown",
      "metadata": {
        "id": "AVdlGzvK0tmg"
      },
      "source": [
        "## Step 12: Build the lists of test images and labels from the dataframe"
      ]
    },
    {
      "cell_type": "code",
      "metadata": {
        "id": "936K2zHy01p-"
      },
      "source": [
        "test_files  = df_test.iloc[:,0].values\r\n",
        "test_labels = df_test.iloc[:,1].values\r\n",
        "print(test_labels[:10])"
      ],
      "execution_count": null,
      "outputs": []
    },
    {
      "cell_type": "markdown",
      "metadata": {
        "id": "o1ASFev20fQt"
      },
      "source": [
        "## Step 13: Read test images"
      ]
    },
    {
      "cell_type": "code",
      "metadata": {
        "id": "QuiIHs6M9m4N"
      },
      "source": [
        "#limit the amount of test images for the class process\r\n",
        "#test_num = len(test_files)\r\n",
        "test_num = 1024\r\n",
        "print(test_num)"
      ],
      "execution_count": null,
      "outputs": []
    },
    {
      "cell_type": "code",
      "metadata": {
        "id": "derLidJ70eOS"
      },
      "source": [
        "test_path =\"test_images/\"\r\n",
        "test_images = []\r\n",
        "from tensorflow.keras.preprocessing import image\r\n",
        "for file in test_files[0:test_num]:\r\n",
        "    img = image.load_img(test_path+file, color_mode=\"rgb\", target_size = (224, 224))\r\n",
        "    test_images.append(img)\r\n",
        "    if len(test_images)%100 == 0:\r\n",
        "      print('.', end='')\r\n",
        "print('Finish')"
      ],
      "execution_count": null,
      "outputs": []
    },
    {
      "cell_type": "markdown",
      "metadata": {
        "id": "rIp8_kI0EF6f"
      },
      "source": [
        "## Step 14: convert images into input vectors"
      ]
    },
    {
      "cell_type": "code",
      "metadata": {
        "id": "WsWYlUiv1jIU"
      },
      "source": [
        "import numpy as np\r\n",
        "from tensorflow.keras.preprocessing import image\r\n",
        "from tensorflow.keras.applications.vgg16 import preprocess_input\r\n",
        "\r\n",
        "#Assign a list for storing image data\r\n",
        "img_list=[]\r\n",
        "for i in range(test_num):\r\n",
        "    x=image.img_to_array(test_images[i])\r\n",
        "    x = preprocess_input(x)\r\n",
        "    img_list.append(x)\r\n",
        "X_test = np.array(img_list)"
      ],
      "execution_count": null,
      "outputs": []
    },
    {
      "cell_type": "markdown",
      "metadata": {
        "id": "4mhFmtlFD7tO"
      },
      "source": [
        "## Step 15: Predict the test images"
      ]
    },
    {
      "cell_type": "code",
      "metadata": {
        "id": "lRlanRxv1d5h"
      },
      "source": [
        "y_predicts = custom_vgg_model.predict(X_test, batch_size=10)\r\n",
        "predict = np.argmax(y_predicts,axis=1)\r\n",
        "print(predict)"
      ],
      "execution_count": null,
      "outputs": []
    },
    {
      "cell_type": "code",
      "metadata": {
        "id": "1zOTt-Vl_mor"
      },
      "source": [
        "import pandas as pd\r\n",
        "df_out = pd.DataFrame(predict) \r\n",
        "df_out.to_csv(\"ans.csv\", index=False)"
      ],
      "execution_count": null,
      "outputs": []
    }
  ]
}